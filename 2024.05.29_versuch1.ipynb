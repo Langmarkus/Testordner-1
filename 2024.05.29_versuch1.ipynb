{
 "cells": [
  {
   "cell_type": "code",
   "execution_count": 1,
   "metadata": {},
   "outputs": [
    {
     "name": "stdout",
     "output_type": "stream",
     "text": [
      "Bereinigter Datensatz wurde gespeichert als 'titanic_cleaned.csv'.\n"
     ]
    }
   ],
   "source": [
    "import pandas as pd\n",
    "\n",
    "# Lade den Datensatz\n",
    "df = pd.read_csv('titanic.csv')\n",
    "\n",
    "# Entferne alle Zeilen mit mindestens einem NaN-Wert\n",
    "df_cleaned = df.dropna()\n",
    "\n",
    "# Speichere den bereinigten Datensatz\n",
    "df_cleaned.to_csv('titanic_cleaned.csv', index=False)\n",
    "\n",
    "print(\"Bereinigter Datensatz wurde gespeichert als 'titanic_cleaned.csv'.\")\n"
   ]
  }
 ],
 "metadata": {
  "kernelspec": {
   "display_name": "DataCraft",
   "language": "python",
   "name": "python3"
  },
  "language_info": {
   "codemirror_mode": {
    "name": "ipython",
    "version": 3
   },
   "file_extension": ".py",
   "mimetype": "text/x-python",
   "name": "python",
   "nbconvert_exporter": "python",
   "pygments_lexer": "ipython3",
   "version": "3.12.2"
  }
 },
 "nbformat": 4,
 "nbformat_minor": 2
}
